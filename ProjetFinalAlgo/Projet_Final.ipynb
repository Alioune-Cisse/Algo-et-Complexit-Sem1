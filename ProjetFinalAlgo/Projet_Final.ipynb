{
 "cells": [
  {
   "cell_type": "markdown",
   "metadata": {},
   "source": [
    "# Partie I"
   ]
  },
  {
   "cell_type": "markdown",
   "metadata": {},
   "source": [
    "### Importer les librairies"
   ]
  },
  {
   "cell_type": "code",
   "execution_count": 25,
   "metadata": {},
   "outputs": [],
   "source": [
    "%matplotlib inline\n",
    "import pandas as pd\n",
    "import networkx as nx\n",
    "import matplotlib.pyplot as plt\n",
    "import csv\n",
    "import folium"
   ]
  },
  {
   "cell_type": "markdown",
   "metadata": {},
   "source": [
    "### Lire les fichiers de graphe avec pandas"
   ]
  },
  {
   "cell_type": "code",
   "execution_count": 26,
   "metadata": {},
   "outputs": [
    {
     "data": {
      "text/html": [
       "<div>\n",
       "<style scoped>\n",
       "    .dataframe tbody tr th:only-of-type {\n",
       "        vertical-align: middle;\n",
       "    }\n",
       "\n",
       "    .dataframe tbody tr th {\n",
       "        vertical-align: top;\n",
       "    }\n",
       "\n",
       "    .dataframe thead th {\n",
       "        text-align: right;\n",
       "    }\n",
       "</style>\n",
       "<table border=\"1\" class=\"dataframe\">\n",
       "  <thead>\n",
       "    <tr style=\"text-align: right;\">\n",
       "      <th></th>\n",
       "      <th>id</th>\n",
       "      <th>latitude</th>\n",
       "      <th>longitude</th>\n",
       "      <th>population</th>\n",
       "    </tr>\n",
       "  </thead>\n",
       "  <tbody>\n",
       "    <tr>\n",
       "      <td>0</td>\n",
       "      <td>Amsterdam</td>\n",
       "      <td>52.379189</td>\n",
       "      <td>4.899431</td>\n",
       "      <td>821752</td>\n",
       "    </tr>\n",
       "    <tr>\n",
       "      <td>1</td>\n",
       "      <td>Utrecht</td>\n",
       "      <td>52.092876</td>\n",
       "      <td>5.104480</td>\n",
       "      <td>334176</td>\n",
       "    </tr>\n",
       "    <tr>\n",
       "      <td>2</td>\n",
       "      <td>Den Haag</td>\n",
       "      <td>52.078663</td>\n",
       "      <td>4.288788</td>\n",
       "      <td>514861</td>\n",
       "    </tr>\n",
       "    <tr>\n",
       "      <td>3</td>\n",
       "      <td>Immingham</td>\n",
       "      <td>53.612390</td>\n",
       "      <td>-0.222190</td>\n",
       "      <td>9642</td>\n",
       "    </tr>\n",
       "    <tr>\n",
       "      <td>4</td>\n",
       "      <td>Doncaster</td>\n",
       "      <td>53.522850</td>\n",
       "      <td>-1.131160</td>\n",
       "      <td>302400</td>\n",
       "    </tr>\n",
       "    <tr>\n",
       "      <td>5</td>\n",
       "      <td>Hoek van Holland</td>\n",
       "      <td>51.977500</td>\n",
       "      <td>4.133330</td>\n",
       "      <td>9382</td>\n",
       "    </tr>\n",
       "    <tr>\n",
       "      <td>6</td>\n",
       "      <td>Felixstowe</td>\n",
       "      <td>51.963750</td>\n",
       "      <td>1.351100</td>\n",
       "      <td>23689</td>\n",
       "    </tr>\n",
       "    <tr>\n",
       "      <td>7</td>\n",
       "      <td>Ipswich</td>\n",
       "      <td>52.059170</td>\n",
       "      <td>1.155450</td>\n",
       "      <td>133384</td>\n",
       "    </tr>\n",
       "    <tr>\n",
       "      <td>8</td>\n",
       "      <td>Colchester</td>\n",
       "      <td>51.889210</td>\n",
       "      <td>0.904210</td>\n",
       "      <td>104390</td>\n",
       "    </tr>\n",
       "    <tr>\n",
       "      <td>9</td>\n",
       "      <td>London</td>\n",
       "      <td>51.509865</td>\n",
       "      <td>-0.118092</td>\n",
       "      <td>8787892</td>\n",
       "    </tr>\n",
       "    <tr>\n",
       "      <td>10</td>\n",
       "      <td>Rotterdam</td>\n",
       "      <td>51.922500</td>\n",
       "      <td>4.479170</td>\n",
       "      <td>623652</td>\n",
       "    </tr>\n",
       "    <tr>\n",
       "      <td>11</td>\n",
       "      <td>Gouda</td>\n",
       "      <td>52.016670</td>\n",
       "      <td>4.708330</td>\n",
       "      <td>70939</td>\n",
       "    </tr>\n",
       "  </tbody>\n",
       "</table>\n",
       "</div>"
      ],
      "text/plain": [
       "                  id   latitude  longitude  population\n",
       "0          Amsterdam  52.379189   4.899431      821752\n",
       "1            Utrecht  52.092876   5.104480      334176\n",
       "2           Den Haag  52.078663   4.288788      514861\n",
       "3          Immingham  53.612390  -0.222190        9642\n",
       "4          Doncaster  53.522850  -1.131160      302400\n",
       "5   Hoek van Holland  51.977500   4.133330        9382\n",
       "6         Felixstowe  51.963750   1.351100       23689\n",
       "7            Ipswich  52.059170   1.155450      133384\n",
       "8         Colchester  51.889210   0.904210      104390\n",
       "9             London  51.509865  -0.118092     8787892\n",
       "10         Rotterdam  51.922500   4.479170      623652\n",
       "11             Gouda  52.016670   4.708330       70939"
      ]
     },
     "execution_count": 26,
     "metadata": {},
     "output_type": "execute_result"
    }
   ],
   "source": [
    "transport_nodes=pd.read_csv('data/transport-nodes.csv')\n",
    "transport_nodes"
   ]
  },
  {
   "cell_type": "code",
   "execution_count": 27,
   "metadata": {},
   "outputs": [
    {
     "data": {
      "text/html": [
       "<div>\n",
       "<style scoped>\n",
       "    .dataframe tbody tr th:only-of-type {\n",
       "        vertical-align: middle;\n",
       "    }\n",
       "\n",
       "    .dataframe tbody tr th {\n",
       "        vertical-align: top;\n",
       "    }\n",
       "\n",
       "    .dataframe thead th {\n",
       "        text-align: right;\n",
       "    }\n",
       "</style>\n",
       "<table border=\"1\" class=\"dataframe\">\n",
       "  <thead>\n",
       "    <tr style=\"text-align: right;\">\n",
       "      <th></th>\n",
       "      <th>src</th>\n",
       "      <th>dst</th>\n",
       "      <th>relationship</th>\n",
       "      <th>cost</th>\n",
       "    </tr>\n",
       "  </thead>\n",
       "  <tbody>\n",
       "    <tr>\n",
       "      <td>0</td>\n",
       "      <td>Amsterdam</td>\n",
       "      <td>Utrecht</td>\n",
       "      <td>EROAD</td>\n",
       "      <td>46</td>\n",
       "    </tr>\n",
       "    <tr>\n",
       "      <td>1</td>\n",
       "      <td>Amsterdam</td>\n",
       "      <td>Den Haag</td>\n",
       "      <td>EROAD</td>\n",
       "      <td>59</td>\n",
       "    </tr>\n",
       "    <tr>\n",
       "      <td>2</td>\n",
       "      <td>Den Haag</td>\n",
       "      <td>Rotterdam</td>\n",
       "      <td>EROAD</td>\n",
       "      <td>26</td>\n",
       "    </tr>\n",
       "    <tr>\n",
       "      <td>3</td>\n",
       "      <td>Amsterdam</td>\n",
       "      <td>Immingham</td>\n",
       "      <td>EROAD</td>\n",
       "      <td>369</td>\n",
       "    </tr>\n",
       "    <tr>\n",
       "      <td>4</td>\n",
       "      <td>Immingham</td>\n",
       "      <td>Doncaster</td>\n",
       "      <td>EROAD</td>\n",
       "      <td>74</td>\n",
       "    </tr>\n",
       "    <tr>\n",
       "      <td>5</td>\n",
       "      <td>Doncaster</td>\n",
       "      <td>London</td>\n",
       "      <td>EROAD</td>\n",
       "      <td>277</td>\n",
       "    </tr>\n",
       "    <tr>\n",
       "      <td>6</td>\n",
       "      <td>Hoek van Holland</td>\n",
       "      <td>Den Haag</td>\n",
       "      <td>EROAD</td>\n",
       "      <td>27</td>\n",
       "    </tr>\n",
       "    <tr>\n",
       "      <td>7</td>\n",
       "      <td>Felixstowe</td>\n",
       "      <td>Hoek van Holland</td>\n",
       "      <td>EROAD</td>\n",
       "      <td>207</td>\n",
       "    </tr>\n",
       "    <tr>\n",
       "      <td>8</td>\n",
       "      <td>Ipswich</td>\n",
       "      <td>Felixstowe</td>\n",
       "      <td>EROAD</td>\n",
       "      <td>22</td>\n",
       "    </tr>\n",
       "    <tr>\n",
       "      <td>9</td>\n",
       "      <td>Colchester</td>\n",
       "      <td>Ipswich</td>\n",
       "      <td>EROAD</td>\n",
       "      <td>32</td>\n",
       "    </tr>\n",
       "    <tr>\n",
       "      <td>10</td>\n",
       "      <td>London</td>\n",
       "      <td>Colchester</td>\n",
       "      <td>EROAD</td>\n",
       "      <td>106</td>\n",
       "    </tr>\n",
       "    <tr>\n",
       "      <td>11</td>\n",
       "      <td>Gouda</td>\n",
       "      <td>Rotterdam</td>\n",
       "      <td>EROAD</td>\n",
       "      <td>25</td>\n",
       "    </tr>\n",
       "    <tr>\n",
       "      <td>12</td>\n",
       "      <td>Gouda</td>\n",
       "      <td>Utrecht</td>\n",
       "      <td>EROAD</td>\n",
       "      <td>35</td>\n",
       "    </tr>\n",
       "    <tr>\n",
       "      <td>13</td>\n",
       "      <td>Den Haag</td>\n",
       "      <td>Gouda</td>\n",
       "      <td>EROAD</td>\n",
       "      <td>32</td>\n",
       "    </tr>\n",
       "    <tr>\n",
       "      <td>14</td>\n",
       "      <td>Hoek van Holland</td>\n",
       "      <td>Rotterdam</td>\n",
       "      <td>EROAD</td>\n",
       "      <td>33</td>\n",
       "    </tr>\n",
       "  </tbody>\n",
       "</table>\n",
       "</div>"
      ],
      "text/plain": [
       "                 src               dst relationship  cost\n",
       "0          Amsterdam           Utrecht        EROAD    46\n",
       "1          Amsterdam          Den Haag        EROAD    59\n",
       "2           Den Haag         Rotterdam        EROAD    26\n",
       "3          Amsterdam         Immingham        EROAD   369\n",
       "4          Immingham         Doncaster        EROAD    74\n",
       "5          Doncaster            London        EROAD   277\n",
       "6   Hoek van Holland          Den Haag        EROAD    27\n",
       "7         Felixstowe  Hoek van Holland        EROAD   207\n",
       "8            Ipswich        Felixstowe        EROAD    22\n",
       "9         Colchester           Ipswich        EROAD    32\n",
       "10            London        Colchester        EROAD   106\n",
       "11             Gouda         Rotterdam        EROAD    25\n",
       "12             Gouda           Utrecht        EROAD    35\n",
       "13          Den Haag             Gouda        EROAD    32\n",
       "14  Hoek van Holland         Rotterdam        EROAD    33"
      ]
     },
     "execution_count": 27,
     "metadata": {},
     "output_type": "execute_result"
    }
   ],
   "source": [
    "transport_arcs=pd.read_csv('data/transport-relationships.csv')\n",
    "transport_arcs"
   ]
  },
  {
   "cell_type": "markdown",
   "metadata": {},
   "source": [
    "### Construire le graphe et le visualiser: la méthode from_pandas_dataframe n'existe plus donc nous la remplaçons par la méthode from_pandas_edgelist"
   ]
  },
  {
   "cell_type": "code",
   "execution_count": 28,
   "metadata": {},
   "outputs": [
    {
     "data": {
      "image/png": "[encoded data removed]",
      "text/plain": [
       "<Figure size 576x432 with 1 Axes>"
      ]
     },
     "metadata": {},
     "output_type": "display_data"
    }
   ],
   "source": [
    "plt.figure(figsize=(8,6))\n",
    "df=transport_arcs\n",
    "Graphe=nx.from_pandas_edgelist(df, source='src', target='dst', edge_attr=True)\n",
    "nx.draw(Graphe, with_labels=None, node_color='red', node_size=1000)\n",
    "plt.show()"
   ]
  },
  {
   "cell_type": "markdown",
   "metadata": {},
   "source": [
    "### Attributs"
   ]
  },
  {
   "cell_type": "code",
   "execution_count": 29,
   "metadata": {},
   "outputs": [
    {
     "data": {
      "text/plain": [
       "NodeDataView({'Amsterdam': {}, 'Utrecht': {}, 'Den Haag': {}, 'Rotterdam': {}, 'Immingham': {}, 'Doncaster': {}, 'London': {}, 'Hoek van Holland': {}, 'Felixstowe': {}, 'Ipswich': {}, 'Colchester': {}, 'Gouda': {}})"
      ]
     },
     "execution_count": 29,
     "metadata": {},
     "output_type": "execute_result"
    }
   ],
   "source": [
    "Graphe.node.data()"
   ]
  },
  {
   "cell_type": "markdown",
   "metadata": {},
   "source": [
    "### Ajout des attributs latitude et longitude aux noeuds"
   ]
  },
  {
   "cell_type": "code",
   "execution_count": 30,
   "metadata": {},
   "outputs": [],
   "source": [
    "def ajouterAttribut(myGraphe,dfnoeuds, nomAttribut,nomIndex):\n",
    "    ide=[i for i in dfnoeuds[nomIndex]]\n",
    "    attr=[nomAttribut for i in dfnoeuds[nomIndex]]\n",
    "    val=[i for i in dfnoeuds[nomAttribut]]\n",
    "    values={c:{c2:v} for c, c2, v in zip(ide, attr, val)}\n",
    "    #values\n",
    "    nx.set_node_attributes(Graphe, values)\n",
    "    #Graphe.node.data()      "
   ]
  },
  {
   "cell_type": "code",
   "execution_count": 31,
   "metadata": {},
   "outputs": [],
   "source": [
    "ajouterAttribut(Graphe,transport_nodes,'latitude','id')\n",
    "ajouterAttribut(Graphe,transport_nodes,'longitude','id')\n",
    "ajouterAttribut(Graphe,transport_nodes,'population','id')"
   ]
  },
  {
   "cell_type": "code",
   "execution_count": 32,
   "metadata": {},
   "outputs": [
    {
     "data": {
      "text/plain": [
       "NodeDataView({'Amsterdam': {'latitude': 52.379189000000004, 'longitude': 4.899431, 'population': 821752}, 'Utrecht': {'latitude': 52.092876000000004, 'longitude': 5.104480000000001, 'population': 334176}, 'Den Haag': {'latitude': 52.078663, 'longitude': 4.288787999999999, 'population': 514861}, 'Rotterdam': {'latitude': 51.9225, 'longitude': 4.47917, 'population': 623652}, 'Immingham': {'latitude': 53.612390000000005, 'longitude': -0.22219, 'population': 9642}, 'Doncaster': {'latitude': 53.52285, 'longitude': -1.13116, 'population': 302400}, 'London': {'latitude': 51.509865000000005, 'longitude': -0.118092, 'population': 8787892}, 'Hoek van Holland': {'latitude': 51.9775, 'longitude': 4.13333, 'population': 9382}, 'Felixstowe': {'latitude': 51.96375, 'longitude': 1.3511, 'population': 23689}, 'Ipswich': {'latitude': 52.05917, 'longitude': 1.15545, 'population': 133384}, 'Colchester': {'latitude': 51.88921, 'longitude': 0.9042100000000001, 'population': 104390}, 'Gouda': {'latitude': 52.01667, 'longitude': 4.70833, 'population': 70939}})"
      ]
     },
     "execution_count": 32,
     "metadata": {},
     "output_type": "execute_result"
    }
   ],
   "source": [
    "Graphe.nodes.data()"
   ]
  },
  {
   "cell_type": "code",
   "execution_count": 33,
   "metadata": {},
   "outputs": [
    {
     "data": {
      "text/plain": [
       "EdgeDataView([('Amsterdam', 'Utrecht', {'src': 'Amsterdam', 'dst': 'Utrecht', 'relationship': 'EROAD', 'cost': 46}), ('Amsterdam', 'Den Haag', {'src': 'Amsterdam', 'dst': 'Den Haag', 'relationship': 'EROAD', 'cost': 59}), ('Amsterdam', 'Immingham', {'src': 'Amsterdam', 'dst': 'Immingham', 'relationship': 'EROAD', 'cost': 369}), ('Utrecht', 'Gouda', {'src': 'Gouda', 'dst': 'Utrecht', 'relationship': 'EROAD', 'cost': 35}), ('Den Haag', 'Rotterdam', {'src': 'Den Haag', 'dst': 'Rotterdam', 'relationship': 'EROAD', 'cost': 26}), ('Den Haag', 'Hoek van Holland', {'src': 'Hoek van Holland', 'dst': 'Den Haag', 'relationship': 'EROAD', 'cost': 27}), ('Den Haag', 'Gouda', {'src': 'Den Haag', 'dst': 'Gouda', 'relationship': 'EROAD', 'cost': 32}), ('Rotterdam', 'Gouda', {'src': 'Gouda', 'dst': 'Rotterdam', 'relationship': 'EROAD', 'cost': 25}), ('Rotterdam', 'Hoek van Holland', {'src': 'Hoek van Holland', 'dst': 'Rotterdam', 'relationship': 'EROAD', 'cost': 33}), ('Immingham', 'Doncaster', {'src': 'Immingham', 'dst': 'Doncaster', 'relationship': 'EROAD', 'cost': 74}), ('Doncaster', 'London', {'src': 'Doncaster', 'dst': 'London', 'relationship': 'EROAD', 'cost': 277}), ('London', 'Colchester', {'src': 'London', 'dst': 'Colchester', 'relationship': 'EROAD', 'cost': 106}), ('Hoek van Holland', 'Felixstowe', {'src': 'Felixstowe', 'dst': 'Hoek van Holland', 'relationship': 'EROAD', 'cost': 207}), ('Felixstowe', 'Ipswich', {'src': 'Ipswich', 'dst': 'Felixstowe', 'relationship': 'EROAD', 'cost': 22}), ('Ipswich', 'Colchester', {'src': 'Colchester', 'dst': 'Ipswich', 'relationship': 'EROAD', 'cost': 32})])"
      ]
     },
     "execution_count": 33,
     "metadata": {},
     "output_type": "execute_result"
    }
   ],
   "source": [
    "Graphe.edges.data()"
   ]
  },
  {
   "cell_type": "markdown",
   "metadata": {},
   "source": [
    "### Représenter les noeuds sur une carte avec folium"
   ]
  },
  {
   "cell_type": "code",
   "execution_count": 34,
   "metadata": {},
   "outputs": [],
   "source": [
    "basemap = folium.Map(\n",
    "    location=[52.3791890, 4.899431],\n",
    "    zoom_start=12,\n",
    "    tiles='Stamen Toner'\n",
    ")"
   ]
  },
  {
   "cell_type": "code",
   "execution_count": 35,
   "metadata": {},
   "outputs": [
    {
     "data": {
      "text/html": [
       "<div style=\"width:100%;\"><div style=\"position:relative;width:100%;height:0;padding-bottom:60%;\"><iframe src=\"about:blank\" style=\"position:absolute;width:100%;height:100%;left:0;top:0;border:none !important;\" data-html=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 onload=\"this.contentDocument.open();this.contentDocument.write(atob(this.getAttribute('data-html')));this.contentDocument.close();\" allowfullscreen webkitallowfullscreen mozallowfullscreen></iframe></div></div>"
      ],
      "text/plain": [
       "<folium.folium.Map at 0x25ce2b07788>"
      ]
     },
     "execution_count": 35,
     "metadata": {},
     "output_type": "execute_result"
    }
   ],
   "source": [
    "basemap"
   ]
  },
  {
   "cell_type": "markdown",
   "metadata": {},
   "source": [
    "### Ajouter des marqueurs pour tous les noeuds du reseau avec folium.Marker"
   ]
  },
  {
   "cell_type": "code",
   "execution_count": 36,
   "metadata": {},
   "outputs": [],
   "source": [
    "for i in Graphe.node:\n",
    "    folium.Marker([Graphe.node[i]['latitude'],Graphe.node[i]['longitude']],tooltip = 'Population: '+str(Graphe.node[i]['population'])+' habitants').add_to(basemap)"
   ]
  },
  {
   "cell_type": "code",
   "execution_count": 37,
   "metadata": {},
   "outputs": [
    {
     "data": {
      "text/html": [
       "<div style=\"width:100%;\"><div style=\"position:relative;width:100%;height:0;padding-bottom:60%;\"><iframe src=\"about:blank\" style=\"position:absolute;width:100%;height:100%;left:0;top:0;border:none !important;\" data-html=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 onload=\"this.contentDocument.open();this.contentDocument.write(atob(this.getAttribute('data-html')));this.contentDocument.close();\" allowfullscreen webkitallowfullscreen mozallowfullscreen></iframe></div></div>"
      ],
      "text/plain": [
       "<folium.folium.Map at 0x25ce2b07788>"
      ]
     },
     "execution_count": 37,
     "metadata": {},
     "output_type": "execute_result"
    }
   ],
   "source": [
    "basemap"
   ]
  },
  {
   "cell_type": "markdown",
   "metadata": {},
   "source": [
    "### Coordonnées et celle d'un voisin"
   ]
  },
  {
   "cell_type": "code",
   "execution_count": 38,
   "metadata": {},
   "outputs": [],
   "source": [
    "def construirePointsImage(myGraphe):\n",
    "    points = []\n",
    "    for i in myGraphe.node:\n",
    "        \n",
    "        for neighbor in myGraphe.neighbors(i):\n",
    "            S = []\n",
    "            S.append([myGraphe.node[i][\"latitude\"],myGraphe.node[i][\"longitude\"]])\n",
    "            S.append([myGraphe.node[neighbor][\"latitude\"],myGraphe.node[neighbor][\"longitude\"]])\n",
    "            points.append(S)\n",
    "    return points"
   ]
  },
  {
   "cell_type": "code",
   "execution_count": 39,
   "metadata": {},
   "outputs": [],
   "source": [
    "coordonneesvoisins = construirePointsImage(Graphe)\n",
    "#coordonneesvoisins"
   ]
  },
  {
   "cell_type": "markdown",
   "metadata": {},
   "source": [
    "### Visualiser une carte du graphe avec ses noeuds et les arcs sous forme lignes"
   ]
  },
  {
   "cell_type": "code",
   "execution_count": 40,
   "metadata": {},
   "outputs": [
    {
     "data": {
      "text/html": [
       "<div style=\"width:100%;\"><div style=\"position:relative;width:100%;height:0;padding-bottom:60%;\"><iframe src=\"about:blank\" style=\"position:absolute;width:100%;height:100%;left:0;top:0;border:none !important;\" data-html=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 onload=\"this.contentDocument.open();this.contentDocument.write(atob(this.getAttribute('data-html')));this.contentDocument.close();\" allowfullscreen webkitallowfullscreen mozallowfullscreen></iframe></div></div>"
      ],
      "text/plain": [
       "<folium.folium.Map at 0x25ce2b07788>"
      ]
     },
     "execution_count": 40,
     "metadata": {},
     "output_type": "execute_result"
    }
   ],
   "source": [
    "lignes=folium.PolyLine(locations=coordonneesvoisins,weight=2,color = 'blue')\n",
    "basemap.add_child(lignes)"
   ]
  },
  {
   "cell_type": "markdown",
   "metadata": {},
   "source": [
    "# Partie II"
   ]
  },
  {
   "cell_type": "markdown",
   "metadata": {},
   "source": [
    "### Implémenter la classe noeud"
   ]
  },
  {
   "cell_type": "code",
   "execution_count": 41,
   "metadata": {},
   "outputs": [],
   "source": [
    "class Noeud:\n",
    "    def __init__(self,name):\n",
    "        self.name = name\n",
    "        self.attributs = {}\n",
    "        self.listeNomVoisin = []\n",
    "        \n",
    "    def setAttribut(self,key, values):\n",
    "        self.attributs={k:v for k,v in zip(key, values)}\n",
    "        return self.attributs\n",
    "        \n",
    "    def getAttribut(self,key):\n",
    "        return self.attributs\n",
    "    \n",
    "    def getName(self):\n",
    "        return self.name\n",
    "    '''\n",
    "    Deux noeuds sont egaux s'ils ont même name\n",
    "    '''\n",
    "    def egal(self, noeud):\n",
    "        return self.name==noeud.name"
   ]
  },
  {
   "cell_type": "code",
   "execution_count": 42,
   "metadata": {},
   "outputs": [
    {
     "name": "stdout",
     "output_type": "stream",
     "text": [
      "Nouvelle attribut:{'coordonnees': [239.45, 79.0], 'population': 120987}\n",
      "Egalité entre essai et equal: True\n",
      "Egalité entre essai et Not_equal: False\n"
     ]
    }
   ],
   "source": [
    "essai=Noeud('Alibaba')\n",
    "print(f'Nouvelle attribut:{essai.setAttribut([\"coordonnees\", \"population\"], [[239.45, 79.0], 120987])}')\n",
    "equal=Noeud('Alibaba')\n",
    "print(f'Egalité entre essai et equal: {equal.egal(essai)}')\n",
    "Not_equal=Noeud('Alibabas')\n",
    "print(f'Egalité entre essai et Not_equal: {Not_equal.egal(essai)}')"
   ]
  },
  {
   "cell_type": "markdown",
   "metadata": {},
   "source": [
    "### Implémenter la classe graphe"
   ]
  },
  {
   "cell_type": "code",
   "execution_count": 43,
   "metadata": {},
   "outputs": [],
   "source": [
    "class Graphe:\n",
    "    '''\n",
    "    Les noeuds seront mis dans une liste\n",
    "    Les arcs forment un dictionnaire avec comme clé les noms des noeuds et comme valeurs une liste de noeud\n",
    "    '''\n",
    "    def __init__(self):\n",
    "        self.noeuds = []\n",
    "        self.arcs = {}\n",
    "    '''\n",
    "    Creer les neouds avec un fichier csv\n",
    "    On peut mettre tous les noeuds dans une liste\n",
    "    On doit attribuer à chaque noeud ses attributs: latitude, longitude, population\n",
    "    On initialise le dictionnaire des arcs en creant la cle avec le nom du noeud et la valeur avec une liste vide\n",
    "    N'oubliez pas de gerer les exceptions\n",
    "    '''\n",
    "    def creerNoeuds(self,fichiernoeuds):\n",
    "        with open(fichiernoeuds) as f:\n",
    "            liste=csv.reader(f)\n",
    "            en_tete=next(liste)\n",
    "            noeud=[]\n",
    "            attr=[]\n",
    "            attributs=[]\n",
    "            for ligne in liste:\n",
    "                noeud.append(ligne[0])\n",
    "                attr.append(ligne[1:])\n",
    "            self.noeuds=noeud\n",
    "            self.arc={n:[] for n in (noeud)}\n",
    "            #print(self.arc)\n",
    "            cle=['latitude', 'longitude', 'population']\n",
    "            noeuds=[]\n",
    "            #print(f'Noeuds: {en_tete}')\n",
    "            #print(f'Attributs: {attr}')\n",
    "            for i in range(len(noeud)):\n",
    "                self.name=noeud[i]\n",
    "                #noeuds.append(Noeud.setAttribut(self, cle, attr[i]))\n",
    "                #print (f'{noeud[i]}:{Noeud.setAttribut(self,cle, attr[i])}')\n",
    "                nom=Noeud.getName(self)\n",
    "                #Noeud.getAttribut(self, key=cle)\n",
    "                attributs.append(Noeud.setAttribut(self, key=cle, values=attr[i]))\n",
    "            #self.noeuds=attributs\n",
    "        return self.noeuds\n",
    "        \n",
    "\n",
    "        \n",
    "    '''\n",
    "    - Creer les arcs avec un  fichier csv\n",
    "    - Utilisez un dictionnaire pour les arcs\n",
    "    - N'oubliez pas que le graphe est non oriente.\n",
    "    - Pour chaque noeud on mettra des tuples dans la liste de ses voisins: (nom du voisin, cout du chemin)\n",
    "    - Gerer les exceptions\n",
    "    '''   \n",
    "    def creerArc(self, fichierarcs):\n",
    "        #print(self.arc)\n",
    "        with open(fichierarcs) as f:\n",
    "            liste=csv.reader(f)\n",
    "            en_tete=next(liste)\n",
    "            self.arc={ligne[0]:[(ligne[1], ligne[3])] for ligne in (liste)}\n",
    "            return self.arc\n",
    "    '''\n",
    "    Retrouver un noeud à partir de son nom\n",
    "    '''   \n",
    "    def getNoeud(self,name):\n",
    "        for i in range(len(self.noeuds)):\n",
    "            if self.noeuds[i]==name:\n",
    "                return self.noeuds[i]\n",
    "            else:\n",
    "                return \"Ce noeud n'existe pas\"\n",
    "    '''\n",
    "    Trouver les noeuds voisins d'un noeud donne\n",
    "    '''\n",
    "    def getVoisins(self,noeud):\n",
    "        return construirePointsImage(self)\n",
    "    \n",
    "    '''\n",
    "    Recuperer pour un noeud donne les latitudes et longitudes de ses voisins\n",
    "    Constituer des pairs de listes de coordonnées entre le point et ses voisins\n",
    "    pour une representation sous folium\n",
    "    \n",
    "    '''\n",
    "    def getCoordonnesVoisins(self, noeud):\n",
    "        listecoord = []\n",
    "        # voise est un tuple et je veux recuperer le nom du noeud voisin \n",
    "        # qui est le premier lement du tuple\n",
    "        \n",
    "        for voise in self.getVoisins(noeud):\n",
    "            # Recupere un noeud voisin\n",
    "            noeudVoisin = self.getNoeud(voise[0])\n",
    "            listecoord.append([noeud.getAttribut('coordonnees'),noeudVoisin.getAttribut('coordonnees')])\n",
    "        return listecoord\n",
    "    \n",
    "    '''\n",
    "    Recuperer les coordonnees d'une liste de neouds pour visualiser sous folium\n",
    "    Prend en entrée une liste de nom de noeud\n",
    "    Retourne une liste de sous-listes à deux elements de coordonnées\n",
    "    '''\n",
    "    def getListeCoordonnees(self,listeNoeuds):\n",
    "        coord = []\n",
    "        for name in listeNoeuds:\n",
    "            coord.append(self.getNoeud(name).getAttribut('coordonnees'))\n",
    "        return coord\n",
    "    \n",
    "    '''\n",
    "    Visualiser les noeuds et les arcs sous folium\n",
    "    Entree: le parametre explored sera utilisé pour les parcours de graphe\n",
    "    '''\n",
    "    \n",
    "    def visualiserFolium(self, locationpardefaut = [52.3791890, 4.899431],tiles='Stamen Toner',explored = None ):\n",
    "    \n",
    "        basemap = folium.Map(location= locationpardefaut,zoom_start=6,tiles=tiles)\n",
    "        \n",
    "        \n",
    "        \n",
    "        for i in self.noeuds:\n",
    "            \n",
    "            folium.Marker(i.getAttribut('coordonnees'),tooltip = 'Population '+str(i.getAttribut('population'))).add_to(basemap)\n",
    "            locations = self.getCoordonnesVoisins(i)\n",
    "            if len(locations)!= 0:\n",
    "                folium.PolyLine(self.getCoordonnesVoisins(i), color=\"red\", weight=2.5, opacity=1).add_to(basemap)\n",
    "        if explored != None:\n",
    "            folium.PolyLine(self.getListeCoordonnees(explored), color=\"green\", weight=2.5, opacity=1).add_to(basemap)\n",
    "        return basemap"
   ]
  },
  {
   "cell_type": "code",
   "execution_count": 44,
   "metadata": {},
   "outputs": [
    {
     "data": {
      "text/plain": [
       "['Amsterdam',\n",
       " 'Utrecht',\n",
       " 'Den Haag',\n",
       " 'Immingham',\n",
       " 'Doncaster',\n",
       " 'Hoek van Holland',\n",
       " 'Felixstowe',\n",
       " 'Ipswich',\n",
       " 'Colchester',\n",
       " 'London',\n",
       " 'Rotterdam',\n",
       " 'Gouda']"
      ]
     },
     "execution_count": 44,
     "metadata": {},
     "output_type": "execute_result"
    }
   ],
   "source": [
    "G = Graphe()\n",
    "G.creerNoeuds('./data/transport-nodes.csv')\n",
    "#Noeud.setAttribut(G)"
   ]
  },
  {
   "cell_type": "code",
   "execution_count": 45,
   "metadata": {},
   "outputs": [
    {
     "data": {
      "text/plain": [
       "{'Amsterdam': [('Immingham', '369')],\n",
       " 'Den Haag': [('Gouda', '32')],\n",
       " 'Immingham': [('Doncaster', '74')],\n",
       " 'Doncaster': [('London', '277')],\n",
       " 'Hoek van Holland': [('Rotterdam', '33')],\n",
       " 'Felixstowe': [('Hoek van Holland', '207')],\n",
       " 'Ipswich': [('Felixstowe', '22')],\n",
       " 'Colchester': [('Ipswich', '32')],\n",
       " 'London': [('Colchester', '106')],\n",
       " 'Gouda': [('Utrecht', '35')]}"
      ]
     },
     "execution_count": 45,
     "metadata": {},
     "output_type": "execute_result"
    }
   ],
   "source": [
    "G.creerArc('./data/transport-relationships.csv')"
   ]
  },
  {
   "cell_type": "code",
   "execution_count": 24,
   "metadata": {},
   "outputs": [],
   "source": [
    "#G.visualiserFolium()"
   ]
  },
  {
   "cell_type": "markdown",
   "metadata": {},
   "source": [
    "# Partie III A"
   ]
  },
  {
   "cell_type": "markdown",
   "metadata": {},
   "source": [
    "### Implémentation de la classe Pile"
   ]
  },
  {
   "cell_type": "code",
   "execution_count": 28,
   "metadata": {},
   "outputs": [],
   "source": [
    "\n",
    "\n",
    "class Pile():\n",
    "    '''\n",
    "    Classe Pile: voir les definitions ci-dessous\n",
    "    La classe dispose d'une structure de type list pour ranger les données\n",
    "    Les consultations, les insertions, les suppressions se font du même cote\n",
    "    Dernier arrive premier servi : LIFO\n",
    "    '''\n",
    "    def __init__(self):\n",
    "        self.elements = []\n",
    "    '''\n",
    "    Insere un objet en tete de la pile\n",
    "    '''\n",
    "    def push(self,noeud):\n",
    "        pass\n",
    "    '''\n",
    "    Retourne True si  un noeud est dans la pile\n",
    "    '''\n",
    "    \n",
    "    def contains_noeud(self, name):\n",
    "        \n",
    "        pass\n",
    "                \n",
    "    '''\n",
    "    Retourne true si la pile est vide\n",
    "    '''\n",
    "    def empty(self):\n",
    "        pass\n",
    "    '''\n",
    "    Retourne et supprime l'element en tete de pile\n",
    "    Retourne une exception si la pile est vide\n",
    "    '''\n",
    "    def remove(self):\n",
    "        pass\n"
   ]
  },
  {
   "cell_type": "code",
   "execution_count": null,
   "metadata": {},
   "outputs": [],
   "source": []
  },
  {
   "cell_type": "markdown",
   "metadata": {},
   "source": [
    "### Implémentation de la classe File"
   ]
  },
  {
   "cell_type": "code",
   "execution_count": 53,
   "metadata": {},
   "outputs": [],
   "source": [
    "\n",
    "class File(Pile):\n",
    "    '''\n",
    "    Classe File: voir les definitions ci-dessous\n",
    "    La classe dispose d'une structure de type list pour ranger les données\n",
    "    Les éléments sont enfilés (insérés) du coté arrière et défilés (retirés)\n",
    "    du coté avant\n",
    "    Premier arrive premier servi : FIFO\n",
    "    File et Pile peuvent partager certaines methodes donc utilisez l'heritage pour definir\n",
    "    la classe File. \n",
    "    Normalement vous ne devez changer l'implementation d'une seule methode\n",
    "    '''\n",
    "\n",
    "    def remove(self):\n",
    "        pass\n",
    "        "
   ]
  },
  {
   "cell_type": "code",
   "execution_count": null,
   "metadata": {},
   "outputs": [],
   "source": []
  },
  {
   "cell_type": "markdown",
   "metadata": {},
   "source": [
    "# Partie III B"
   ]
  },
  {
   "cell_type": "code",
   "execution_count": null,
   "metadata": {},
   "outputs": [],
   "source": []
  },
  {
   "cell_type": "code",
   "execution_count": null,
   "metadata": {},
   "outputs": [],
   "source": []
  },
  {
   "cell_type": "code",
   "execution_count": null,
   "metadata": {},
   "outputs": [],
   "source": []
  },
  {
   "cell_type": "code",
   "execution_count": null,
   "metadata": {},
   "outputs": [],
   "source": []
  },
  {
   "cell_type": "code",
   "execution_count": null,
   "metadata": {},
   "outputs": [],
   "source": []
  }
 ],
 "metadata": {
  "kernelspec": {
   "display_name": "Python 3",
   "language": "python",
   "name": "python3"
  },
  "language_info": {
   "codemirror_mode": {
    "name": "ipython",
    "version": 3
   },
   "file_extension": ".py",
   "mimetype": "text/x-python",
   "name": "python",
   "nbconvert_exporter": "python",
   "pygments_lexer": "ipython3",
   "version": "3.7.4"
  }
 },
 "nbformat": 4,
 "nbformat_minor": 4
}
